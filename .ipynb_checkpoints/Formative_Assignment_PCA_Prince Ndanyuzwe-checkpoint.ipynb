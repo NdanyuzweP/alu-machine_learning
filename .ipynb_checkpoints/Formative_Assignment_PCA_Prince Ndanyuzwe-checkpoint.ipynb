{
 "cells": [
  {
   "cell_type": "markdown",
   "metadata": {
    "colab_type": "text",
    "id": "view-in-github"
   },
   "source": [
    "<a href=\"https://colab.research.google.com/github/NdanyuzweP/alu-machine_learning/blob/main/Formative_Assignment_PCA_Prince%20Ndanyuzwe.ipynb\" target=\"_parent\"><img src=\"https://colab.research.google.com/assets/colab-badge.svg\" alt=\"Open In Colab\"/></a>"
   ]
  },
  {
   "cell_type": "markdown",
   "metadata": {
    "id": "xyATLU4z1cYj"
   },
   "source": [
    "\n",
    "\n",
    "<center>\n",
    "    <img src=\"https://miro.medium.com/v2/resize:fit:300/1*mgncZaKaVx9U6OCQu_m8Bg.jpeg\">\n",
    "</center>\n",
    "\n",
    "\n",
    "\n",
    "The goal of PCA is to extract information while reducing the number of features\n",
    "from a dataset by identifying which existing features relate to another. The crux of the algorithm is trying to determine the relationship between existing features, called principal components, and then quantifying how relevant these principal components are. The principal components are used to transform the high dimensional data to a lower dimensional data while preserving as much information. For a principal component to be relevant, it needs to capture information about the features. We can determine the relationships between features using covariance."
   ]
  },
  {
   "cell_type": "code",
   "execution_count": 2,
   "metadata": {
    "id": "UTntK0eUNimH"
   },
   "outputs": [],
   "source": [
    "import numpy as np\n",
    "import matplotlib.pyplot as plt\n",
    "import numpy.linalg as eig"
   ]
  },
  {
   "cell_type": "code",
   "execution_count": 3,
   "metadata": {
    "id": "qWaiAdz8PyKp"
   },
   "outputs": [],
   "source": [
    "\n",
    "data = np.array([\n",
    "    [   1,   2,  -1,   4,  10],\n",
    "    [   3,  -3,  -3,  12, -15],\n",
    "    [   2,   1,  -2,   4,   5],\n",
    "    [   5,   1,  -5,  10,   5],\n",
    "    [   2,   3,  -3,   5,  12],\n",
    "    [   4,   0,  -3,  16,   2],\n",
    "])"
   ]
  },
  {
   "cell_type": "markdown",
   "metadata": {
    "id": "U2U2_Q5ebos3"
   },
   "source": [
    "### Step 1: Standardize the Data along the Features\n",
    "\n",
    "![image.png](https://encrypted-tbn0.gstatic.com/images?q=tbn:ANd9GcQLxe5VYCBsaZddkkTZlCY24Yov4JJD4-ArTA&usqp=CAU)\n",
    "\n",
    "\n",
    "\n",
    "\n",
    "Explain why we need to handle the data on the same scale.\n",
    "\n",
    "**[TO DO: Insert Answer here]**"
   ]
  },
  {
   "cell_type": "code",
   "execution_count": 4,
   "metadata": {
    "id": "JF3eGB7FRC0A"
   },
   "outputs": [
    {
     "name": "stdout",
     "output_type": "stream",
     "text": [
      "[[ -1.83333333   1.33333333   1.83333333  -4.5          6.83333333]\n",
      " [  0.16666667  -3.66666667  -0.16666667   3.5        -18.16666667]\n",
      " [ -0.83333333   0.33333333   0.83333333  -4.5          1.83333333]\n",
      " [  2.16666667   0.33333333  -2.16666667   1.5          1.83333333]\n",
      " [ -0.83333333   2.33333333  -0.16666667  -3.5          8.83333333]\n",
      " [  1.16666667  -0.66666667  -0.16666667   7.5         -1.16666667]]\n"
     ]
    }
   ],
   "source": [
    "standardized_data = data - np.mean(data, axis=0)\n",
    "print(standardized_data)"
   ]
  },
  {
   "cell_type": "markdown",
   "metadata": {
    "id": "7rzoiQ7fMk_d"
   },
   "source": [
    "![cov matrix.webp](https://dmitry.ai/uploads/default/original/1X/9bd2851674ebb55e404cc3ff5e2ffe65b42ff460.png)\n",
    "\n",
    "We use the pair - wise covariance of the different features to determine how they relate to each other. With these covariances, our goal is to group / cluster based on similar patterns. Intuitively, we can relate features if they have similar covariances with other features."
   ]
  },
  {
   "cell_type": "markdown",
   "metadata": {
    "id": "uuhux3UEcBgw"
   },
   "source": [
    "### Step 2: Calculate the Covariance Matrix\n",
    "\n"
   ]
  },
  {
   "cell_type": "code",
   "execution_count": 5,
   "metadata": {
    "colab": {
     "base_uri": "https://localhost:8080/"
    },
    "id": "qn8oujZlK9YR",
    "outputId": "cfa91ded-287c-488f-c7d4-7ce430ea66cf"
   },
   "outputs": [
    {
     "name": "stdout",
     "output_type": "stream",
     "text": [
      "[[  2.16666667  -1.06666667  -1.76666667   5.5         -4.36666667]\n",
      " [ -1.06666667   4.26666667   0.46666667  -6.6         19.66666667]\n",
      " [ -1.76666667   0.46666667   1.76666667  -3.3          2.36666667]\n",
      " [  5.5         -6.6         -3.3         24.7        -27.9       ]\n",
      " [ -4.36666667  19.66666667   2.36666667 -27.9         92.56666667]]\n"
     ]
    }
   ],
   "source": [
    "cov_matrix = np.cov(standardized_data, rowvar=False)\n",
    "\n",
    "print(cov_matrix)"
   ]
  },
  {
   "cell_type": "markdown",
   "metadata": {
    "id": "uXNcG4AFcT08"
   },
   "source": [
    "### Step 3: Eigendecomposition on the Covariance Matrix\n"
   ]
  },
  {
   "cell_type": "code",
   "execution_count": 6,
   "metadata": {
    "id": "dmGlQ47tRO5w"
   },
   "outputs": [
    {
     "name": "stdout",
     "output_type": "stream",
     "text": [
      "[1.07224751e+02 1.61823788e+01 1.93173735e+00 1.27579741e-01\n",
      " 2.20003762e-04] [[-0.05817655 -0.2631212   0.57237125  0.6292347  -0.45148374]\n",
      " [ 0.19774895 -0.03283879  0.06849106 -0.60720902 -0.7657827 ]\n",
      " [ 0.0328828   0.17887983 -0.75671562  0.45776292 -0.42983171]\n",
      " [-0.33200499 -0.88598416 -0.30234056 -0.11461168  0.01609676]\n",
      " [ 0.91989252 -0.33574235 -0.06059523  0.11259736  0.15724145]]\n"
     ]
    }
   ],
   "source": [
    "eigenvalues, eigenvectors = eig.eig(cov_matrix)\n",
    "print(eigenvalues, eigenvectors)"
   ]
  },
  {
   "cell_type": "markdown",
   "metadata": {
    "id": "4pWho88fcbJA"
   },
   "source": [
    "### Step 4: Sort the Principal Components\n",
    "# np.argsort can only provide lowest to highest; use [::-1] to reverse the list"
   ]
  },
  {
   "cell_type": "code",
   "execution_count": 7,
   "metadata": {
    "colab": {
     "base_uri": "https://localhost:8080/"
    },
    "id": "_znKtzdrTmMg",
    "outputId": "823e9389-f08c-45a1-c181-1cf0589a2a94"
   },
   "outputs": [
    {
     "name": "stdout",
     "output_type": "stream",
     "text": [
      "the order of importance is :\n",
      " [0 1 2 3 4]\n",
      "\n",
      "\n",
      " sorted eigen values:\n",
      "[1.07224751e+02 1.61823788e+01 1.93173735e+00 1.27579741e-01\n",
      " 2.20003762e-04]\n",
      "\n",
      "\n",
      " The sorted eigen vector matrix is: \n",
      " [[-0.05817655 -0.2631212   0.57237125  0.6292347  -0.45148374]\n",
      " [ 0.19774895 -0.03283879  0.06849106 -0.60720902 -0.7657827 ]\n",
      " [ 0.0328828   0.17887983 -0.75671562  0.45776292 -0.42983171]\n",
      " [-0.33200499 -0.88598416 -0.30234056 -0.11461168  0.01609676]\n",
      " [ 0.91989252 -0.33574235 -0.06059523  0.11259736  0.15724145]]\n"
     ]
    }
   ],
   "source": [
    "# np.argsort can only provide lowest to highest; use [::-1] to reverse the list\n",
    "\n",
    "order_of_importance = np.argsort(eigenvalues)[::-1]\n",
    "print ( 'the order of importance is :\\n {}'.format(order_of_importance))\n",
    "\n",
    "# utilize the sort order to sort eigenvalues and eigenvectors\n",
    "sorted_eigenvalues = eigenvalues[order_of_importance] # sort the eigenvalues\n",
    "\n",
    "print('\\n\\n sorted eigen values:\\n{}'.format(sorted_eigenvalues))\n",
    "sorted_eigenvectors = eigenvectors[:,order_of_importance] # sort the eigenvectors\n",
    "print('\\n\\n The sorted eigen vector matrix is: \\n {}'.format(sorted_eigenvectors))"
   ]
  },
  {
   "cell_type": "markdown",
   "metadata": {
    "id": "o1nILNGxpTJB"
   },
   "source": [
    "Question:\n",
    "\n",
    "1. Why do we order eigen values and eigen vectors?\n",
    "\n",
    "[Insert Answer here]\n",
    "\n",
    "2. Is it true we would consider the lowest eigen value compared to the highest? Defend your answer\n",
    "\n",
    "[insert answer here]\n"
   ]
  },
  {
   "cell_type": "markdown",
   "metadata": {
    "id": "BWqFGNeNvgEB"
   },
   "source": [
    "You want to see what percentage of information each eigen value holds. You would have print out the percentage of each eigen value using the formula\n",
    "\n",
    "\n",
    "\n",
    "> (sorted eigen values / sum of all sorted eigen values) * 100\n",
    "\n"
   ]
  },
  {
   "cell_type": "code",
   "execution_count": 8,
   "metadata": {
    "colab": {
     "base_uri": "https://localhost:8080/"
    },
    "id": "bRMHrffrVOXR",
    "outputId": "fc22f63d-fa30-4c56-b849-829e6f21b7d1"
   },
   "outputs": [
    {
     "name": "stdout",
     "output_type": "stream",
     "text": [
      "['85.46%', '12.90%', '1.54%', '0.10%', '0.00%']\n"
     ]
    }
   ],
   "source": [
    "# use sorted_eigenvalues to ensure the explained variances correspond to the eigenvectors\n",
    "\n",
    "#TO DO: Insert code here\n",
    "explained_variance = (sorted_eigenvalues / np.sum(sorted_eigenvalues)) * 100\n",
    "explained_variance =[\"{:.2f}%\".format(value) for value in explained_variance]\n",
    "print( explained_variance)"
   ]
  },
  {
   "cell_type": "markdown",
   "metadata": {
    "id": "qB7H4InbfKx5"
   },
   "source": [
    "#Initialize the number of Principle components then perfrom matrix multiplication with the variable K example k = 3 for 3 priciple components\n",
    "\n",
    "\n",
    "\n",
    "\n",
    "> The reulting matrix (with reduced data) = standardized data * vector with columns k\n",
    "\n",
    "See expected output for k = 2\n",
    "\n"
   ]
  },
  {
   "cell_type": "code",
   "execution_count": 9,
   "metadata": {
    "id": "C-Rnyq6QVTiz"
   },
   "outputs": [],
   "source": [
    "k = 2 # select the number of principal components\n",
    "\n",
    "reduced_data = sorted_eigenvectors[:, order_of_importance[:k]]\n",
    "reduced_data = np.matmul(standardized_data, reduced_data)"
   ]
  },
  {
   "cell_type": "code",
   "execution_count": 10,
   "metadata": {
    "colab": {
     "base_uri": "https://localhost:8080/"
    },
    "id": "JxxBcgQMXe1h",
    "outputId": "76eb09ad-ace9-4d15-bb2b-59b67d8092fa"
   },
   "outputs": [
    {
     "name": "stdout",
     "output_type": "stream",
     "text": [
      "[[  8.21056207   2.45923952]\n",
      " [-18.61365432   3.04511679]\n",
      " [  3.32229116   3.72878901]\n",
      " [  1.05708322  -2.91311904]\n",
      " [  9.79214894   0.24805102]\n",
      " [ -3.76843107  -6.5680773 ]]\n"
     ]
    }
   ],
   "source": [
    "print(reduced_data)"
   ]
  },
  {
   "cell_type": "code",
   "execution_count": 11,
   "metadata": {
    "colab": {
     "base_uri": "https://localhost:8080/"
    },
    "id": "PNEqS6cuaMSY",
    "outputId": "78e448df-45c8-45d7-dbfb-6bf810f2a486"
   },
   "outputs": [
    {
     "name": "stdout",
     "output_type": "stream",
     "text": [
      "(6, 2)\n"
     ]
    }
   ],
   "source": [
    "print(reduced_data.shape)"
   ]
  },
  {
   "cell_type": "markdown",
   "metadata": {
    "id": "UxQ8lTunauMQ"
   },
   "source": [
    "# *What are 2 positive effects and 2 negative effects of PCA\n",
    "\n",
    "Give 2 Benefits and 2 limitations\n",
    "[insert answer here]"
   ]
  }
 ],
 "metadata": {
  "colab": {
   "include_colab_link": true,
   "provenance": []
  },
  "kernelspec": {
   "display_name": "Python 3 (ipykernel)",
   "language": "python",
   "name": "python3"
  },
  "language_info": {
   "codemirror_mode": {
    "name": "ipython",
    "version": 3
   },
   "file_extension": ".py",
   "mimetype": "text/x-python",
   "name": "python",
   "nbconvert_exporter": "python",
   "pygments_lexer": "ipython3",
   "version": "3.10.9"
  }
 },
 "nbformat": 4,
 "nbformat_minor": 1
}
